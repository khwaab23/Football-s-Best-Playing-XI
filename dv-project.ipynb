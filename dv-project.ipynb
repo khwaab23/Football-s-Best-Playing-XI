{
 "cells": [
  {
   "cell_type": "code",
   "execution_count": 1,
   "id": "virgin-sentence",
   "metadata": {
    "execution": {
     "iopub.execute_input": "2025-01-21T18:23:55.155557Z",
     "iopub.status.busy": "2025-01-21T18:23:55.154859Z",
     "iopub.status.idle": "2025-01-21T18:23:56.228356Z",
     "shell.execute_reply": "2025-01-21T18:23:56.229146Z",
     "shell.execute_reply.started": "2021-05-22T09:28:11.817741Z"
    },
    "id": "3t81oKg1EWAu",
    "outputId": "1e70b990-dc46-48ad-ad4d-328bf64780bf",
    "papermill": {
     "duration": 1.105959,
     "end_time": "2025-01-21T18:23:56.229595",
     "exception": false,
     "start_time": "2025-01-21T18:23:55.123636",
     "status": "completed"
    },
    "tags": []
   },
   "outputs": [
    {
     "data": {
      "text/html": [
       "<div>\n",
       "<style scoped>\n",
       "    .dataframe tbody tr th:only-of-type {\n",
       "        vertical-align: middle;\n",
       "    }\n",
       "\n",
       "    .dataframe tbody tr th {\n",
       "        vertical-align: top;\n",
       "    }\n",
       "\n",
       "    .dataframe thead th {\n",
       "        text-align: right;\n",
       "    }\n",
       "</style>\n",
       "<table border=\"1\" class=\"dataframe\">\n",
       "  <thead>\n",
       "    <tr style=\"text-align: right;\">\n",
       "      <th></th>\n",
       "      <th>Name</th>\n",
       "      <th>Nationality</th>\n",
       "      <th>National_Position</th>\n",
       "      <th>National_Kit</th>\n",
       "      <th>Club</th>\n",
       "      <th>Club_Position</th>\n",
       "      <th>Club_Kit</th>\n",
       "      <th>Club_Joining</th>\n",
       "      <th>Contract_Expiry</th>\n",
       "      <th>Rating</th>\n",
       "      <th>...</th>\n",
       "      <th>Long_Shots</th>\n",
       "      <th>Curve</th>\n",
       "      <th>Freekick_Accuracy</th>\n",
       "      <th>Penalties</th>\n",
       "      <th>Volleys</th>\n",
       "      <th>GK_Positioning</th>\n",
       "      <th>GK_Diving</th>\n",
       "      <th>GK_Kicking</th>\n",
       "      <th>GK_Handling</th>\n",
       "      <th>GK_Reflexes</th>\n",
       "    </tr>\n",
       "  </thead>\n",
       "  <tbody>\n",
       "    <tr>\n",
       "      <th>0</th>\n",
       "      <td>Cristiano Ronaldo</td>\n",
       "      <td>Portugal</td>\n",
       "      <td>LS</td>\n",
       "      <td>7.0</td>\n",
       "      <td>Real Madrid</td>\n",
       "      <td>LW</td>\n",
       "      <td>7.0</td>\n",
       "      <td>07/01/2009</td>\n",
       "      <td>2021.0</td>\n",
       "      <td>94</td>\n",
       "      <td>...</td>\n",
       "      <td>90</td>\n",
       "      <td>81</td>\n",
       "      <td>76</td>\n",
       "      <td>85</td>\n",
       "      <td>88</td>\n",
       "      <td>14</td>\n",
       "      <td>7</td>\n",
       "      <td>15</td>\n",
       "      <td>11</td>\n",
       "      <td>11</td>\n",
       "    </tr>\n",
       "    <tr>\n",
       "      <th>1</th>\n",
       "      <td>Lionel Messi</td>\n",
       "      <td>Argentina</td>\n",
       "      <td>RW</td>\n",
       "      <td>10.0</td>\n",
       "      <td>FC Barcelona</td>\n",
       "      <td>RW</td>\n",
       "      <td>10.0</td>\n",
       "      <td>07/01/2004</td>\n",
       "      <td>2018.0</td>\n",
       "      <td>93</td>\n",
       "      <td>...</td>\n",
       "      <td>88</td>\n",
       "      <td>89</td>\n",
       "      <td>90</td>\n",
       "      <td>74</td>\n",
       "      <td>85</td>\n",
       "      <td>14</td>\n",
       "      <td>6</td>\n",
       "      <td>15</td>\n",
       "      <td>11</td>\n",
       "      <td>8</td>\n",
       "    </tr>\n",
       "    <tr>\n",
       "      <th>2</th>\n",
       "      <td>Neymar</td>\n",
       "      <td>Brazil</td>\n",
       "      <td>LW</td>\n",
       "      <td>10.0</td>\n",
       "      <td>FC Barcelona</td>\n",
       "      <td>LW</td>\n",
       "      <td>11.0</td>\n",
       "      <td>07/01/2013</td>\n",
       "      <td>2021.0</td>\n",
       "      <td>92</td>\n",
       "      <td>...</td>\n",
       "      <td>77</td>\n",
       "      <td>79</td>\n",
       "      <td>84</td>\n",
       "      <td>81</td>\n",
       "      <td>83</td>\n",
       "      <td>15</td>\n",
       "      <td>9</td>\n",
       "      <td>15</td>\n",
       "      <td>9</td>\n",
       "      <td>11</td>\n",
       "    </tr>\n",
       "    <tr>\n",
       "      <th>3</th>\n",
       "      <td>Luis Suárez</td>\n",
       "      <td>Uruguay</td>\n",
       "      <td>LS</td>\n",
       "      <td>9.0</td>\n",
       "      <td>FC Barcelona</td>\n",
       "      <td>ST</td>\n",
       "      <td>9.0</td>\n",
       "      <td>07/11/2014</td>\n",
       "      <td>2021.0</td>\n",
       "      <td>92</td>\n",
       "      <td>...</td>\n",
       "      <td>86</td>\n",
       "      <td>86</td>\n",
       "      <td>84</td>\n",
       "      <td>85</td>\n",
       "      <td>88</td>\n",
       "      <td>33</td>\n",
       "      <td>27</td>\n",
       "      <td>31</td>\n",
       "      <td>25</td>\n",
       "      <td>37</td>\n",
       "    </tr>\n",
       "    <tr>\n",
       "      <th>4</th>\n",
       "      <td>Manuel Neuer</td>\n",
       "      <td>Germany</td>\n",
       "      <td>GK</td>\n",
       "      <td>1.0</td>\n",
       "      <td>FC Bayern</td>\n",
       "      <td>GK</td>\n",
       "      <td>1.0</td>\n",
       "      <td>07/01/2011</td>\n",
       "      <td>2021.0</td>\n",
       "      <td>92</td>\n",
       "      <td>...</td>\n",
       "      <td>16</td>\n",
       "      <td>14</td>\n",
       "      <td>11</td>\n",
       "      <td>47</td>\n",
       "      <td>11</td>\n",
       "      <td>91</td>\n",
       "      <td>89</td>\n",
       "      <td>95</td>\n",
       "      <td>90</td>\n",
       "      <td>89</td>\n",
       "    </tr>\n",
       "    <tr>\n",
       "      <th>5</th>\n",
       "      <td>De Gea</td>\n",
       "      <td>Spain</td>\n",
       "      <td>GK</td>\n",
       "      <td>1.0</td>\n",
       "      <td>Manchester Utd</td>\n",
       "      <td>GK</td>\n",
       "      <td>1.0</td>\n",
       "      <td>07/01/2011</td>\n",
       "      <td>2019.0</td>\n",
       "      <td>90</td>\n",
       "      <td>...</td>\n",
       "      <td>12</td>\n",
       "      <td>21</td>\n",
       "      <td>19</td>\n",
       "      <td>40</td>\n",
       "      <td>13</td>\n",
       "      <td>86</td>\n",
       "      <td>88</td>\n",
       "      <td>87</td>\n",
       "      <td>85</td>\n",
       "      <td>90</td>\n",
       "    </tr>\n",
       "    <tr>\n",
       "      <th>6</th>\n",
       "      <td>Robert Lewandowski</td>\n",
       "      <td>Poland</td>\n",
       "      <td>LS</td>\n",
       "      <td>9.0</td>\n",
       "      <td>FC Bayern</td>\n",
       "      <td>ST</td>\n",
       "      <td>9.0</td>\n",
       "      <td>07/01/2014</td>\n",
       "      <td>2021.0</td>\n",
       "      <td>90</td>\n",
       "      <td>...</td>\n",
       "      <td>82</td>\n",
       "      <td>77</td>\n",
       "      <td>76</td>\n",
       "      <td>81</td>\n",
       "      <td>86</td>\n",
       "      <td>8</td>\n",
       "      <td>15</td>\n",
       "      <td>12</td>\n",
       "      <td>6</td>\n",
       "      <td>10</td>\n",
       "    </tr>\n",
       "  </tbody>\n",
       "</table>\n",
       "<p>7 rows × 53 columns</p>\n",
       "</div>"
      ],
      "text/plain": [
       "                 Name Nationality National_Position  National_Kit  \\\n",
       "0   Cristiano Ronaldo    Portugal                LS           7.0   \n",
       "1        Lionel Messi   Argentina                RW          10.0   \n",
       "2              Neymar      Brazil                LW          10.0   \n",
       "3         Luis Suárez     Uruguay                LS           9.0   \n",
       "4        Manuel Neuer     Germany                GK           1.0   \n",
       "5              De Gea       Spain                GK           1.0   \n",
       "6  Robert Lewandowski      Poland                LS           9.0   \n",
       "\n",
       "             Club Club_Position  Club_Kit Club_Joining  Contract_Expiry  \\\n",
       "0     Real Madrid            LW       7.0   07/01/2009           2021.0   \n",
       "1    FC Barcelona            RW      10.0   07/01/2004           2018.0   \n",
       "2    FC Barcelona            LW      11.0   07/01/2013           2021.0   \n",
       "3    FC Barcelona            ST       9.0   07/11/2014           2021.0   \n",
       "4       FC Bayern            GK       1.0   07/01/2011           2021.0   \n",
       "5  Manchester Utd            GK       1.0   07/01/2011           2019.0   \n",
       "6       FC Bayern            ST       9.0   07/01/2014           2021.0   \n",
       "\n",
       "   Rating  ... Long_Shots Curve Freekick_Accuracy Penalties  Volleys  \\\n",
       "0      94  ...         90    81                76        85       88   \n",
       "1      93  ...         88    89                90        74       85   \n",
       "2      92  ...         77    79                84        81       83   \n",
       "3      92  ...         86    86                84        85       88   \n",
       "4      92  ...         16    14                11        47       11   \n",
       "5      90  ...         12    21                19        40       13   \n",
       "6      90  ...         82    77                76        81       86   \n",
       "\n",
       "  GK_Positioning GK_Diving  GK_Kicking  GK_Handling  GK_Reflexes  \n",
       "0             14         7          15           11           11  \n",
       "1             14         6          15           11            8  \n",
       "2             15         9          15            9           11  \n",
       "3             33        27          31           25           37  \n",
       "4             91        89          95           90           89  \n",
       "5             86        88          87           85           90  \n",
       "6              8        15          12            6           10  \n",
       "\n",
       "[7 rows x 53 columns]"
      ]
     },
     "execution_count": 1,
     "metadata": {},
     "output_type": "execute_result"
    }
   ],
   "source": [
    "import pandas as pd\n",
    "import seaborn as sns\n",
    "import matplotlib.pyplot as plt\n",
    "import numpy as np\n",
    "%matplotlib inline\n",
    "df = pd.read_csv(\"../input/complete-fifa-2017-player-dataset-global/FullData.csv\")\n",
    "df.head(7)"
   ]
  },
  {
   "cell_type": "code",
   "execution_count": 2,
   "id": "executive-publication",
   "metadata": {
    "execution": {
     "iopub.execute_input": "2025-01-21T18:23:56.294315Z",
     "iopub.status.busy": "2025-01-21T18:23:56.293200Z",
     "iopub.status.idle": "2025-01-21T18:23:56.297250Z",
     "shell.execute_reply": "2025-01-21T18:23:56.298252Z",
     "shell.execute_reply.started": "2021-05-22T08:42:52.082682Z"
    },
    "papermill": {
     "duration": 0.044011,
     "end_time": "2025-01-21T18:23:56.298557",
     "exception": false,
     "start_time": "2025-01-21T18:23:56.254546",
     "status": "completed"
    },
    "tags": []
   },
   "outputs": [
    {
     "data": {
      "text/plain": [
       "array(['LW', 'RW', 'ST', 'GK', 'Sub', 'RCM', 'CAM', 'LCB', 'LCM', 'RS',\n",
       "       'RB', 'RCB', 'LM', 'LDM', 'RM', 'LB', 'CDM', 'RDM', 'LF', 'CB',\n",
       "       'LAM', 'Res', 'CM', 'LS', 'RF', 'RWB', 'RAM', 'LWB', nan, 'CF'],\n",
       "      dtype=object)"
      ]
     },
     "execution_count": 2,
     "metadata": {},
     "output_type": "execute_result"
    }
   ],
   "source": [
    "df['Club_Position'].unique()"
   ]
  },
  {
   "cell_type": "code",
   "execution_count": 3,
   "id": "gorgeous-karen",
   "metadata": {
    "execution": {
     "iopub.execute_input": "2025-01-21T18:23:56.345677Z",
     "iopub.status.busy": "2025-01-21T18:23:56.344983Z",
     "iopub.status.idle": "2025-01-21T18:23:56.424789Z",
     "shell.execute_reply": "2025-01-21T18:23:56.424208Z",
     "shell.execute_reply.started": "2021-05-22T08:42:53.307623Z"
    },
    "id": "b4W7EhgAE558",
    "outputId": "33cb5457-ca35-40a1-aba8-0672e3f7d557",
    "papermill": {
     "duration": 0.102241,
     "end_time": "2025-01-21T18:23:56.424968",
     "exception": false,
     "start_time": "2025-01-21T18:23:56.322727",
     "status": "completed"
    },
    "tags": []
   },
   "outputs": [
    {
     "data": {
      "text/html": [
       "<div>\n",
       "<style scoped>\n",
       "    .dataframe tbody tr th:only-of-type {\n",
       "        vertical-align: middle;\n",
       "    }\n",
       "\n",
       "    .dataframe tbody tr th {\n",
       "        vertical-align: top;\n",
       "    }\n",
       "\n",
       "    .dataframe thead th {\n",
       "        text-align: right;\n",
       "    }\n",
       "</style>\n",
       "<table border=\"1\" class=\"dataframe\">\n",
       "  <thead>\n",
       "    <tr style=\"text-align: right;\">\n",
       "      <th></th>\n",
       "      <th>Name</th>\n",
       "      <th>Nationality</th>\n",
       "      <th>National_Position</th>\n",
       "      <th>National_Kit</th>\n",
       "      <th>Club</th>\n",
       "      <th>Club_Position</th>\n",
       "      <th>Club_Kit</th>\n",
       "      <th>Club_Joining</th>\n",
       "      <th>Contract_Expiry</th>\n",
       "      <th>Rating</th>\n",
       "      <th>...</th>\n",
       "      <th>Long_Shots</th>\n",
       "      <th>Curve</th>\n",
       "      <th>Freekick_Accuracy</th>\n",
       "      <th>Penalties</th>\n",
       "      <th>Volleys</th>\n",
       "      <th>GK_Positioning</th>\n",
       "      <th>GK_Diving</th>\n",
       "      <th>GK_Kicking</th>\n",
       "      <th>GK_Handling</th>\n",
       "      <th>GK_Reflexes</th>\n",
       "    </tr>\n",
       "  </thead>\n",
       "  <tbody>\n",
       "    <tr>\n",
       "      <th>0</th>\n",
       "      <td>Cristiano Ronaldo</td>\n",
       "      <td>Portugal</td>\n",
       "      <td>LS</td>\n",
       "      <td>7.0</td>\n",
       "      <td>Real Madrid</td>\n",
       "      <td>LW</td>\n",
       "      <td>7.0</td>\n",
       "      <td>07/01/2009</td>\n",
       "      <td>2021.0</td>\n",
       "      <td>94</td>\n",
       "      <td>...</td>\n",
       "      <td>90</td>\n",
       "      <td>81</td>\n",
       "      <td>76</td>\n",
       "      <td>85</td>\n",
       "      <td>88</td>\n",
       "      <td>14</td>\n",
       "      <td>7</td>\n",
       "      <td>15</td>\n",
       "      <td>11</td>\n",
       "      <td>11</td>\n",
       "    </tr>\n",
       "    <tr>\n",
       "      <th>1</th>\n",
       "      <td>Lionel Messi</td>\n",
       "      <td>Argentina</td>\n",
       "      <td>RW</td>\n",
       "      <td>10.0</td>\n",
       "      <td>FC Barcelona</td>\n",
       "      <td>RW</td>\n",
       "      <td>10.0</td>\n",
       "      <td>07/01/2004</td>\n",
       "      <td>2018.0</td>\n",
       "      <td>93</td>\n",
       "      <td>...</td>\n",
       "      <td>88</td>\n",
       "      <td>89</td>\n",
       "      <td>90</td>\n",
       "      <td>74</td>\n",
       "      <td>85</td>\n",
       "      <td>14</td>\n",
       "      <td>6</td>\n",
       "      <td>15</td>\n",
       "      <td>11</td>\n",
       "      <td>8</td>\n",
       "    </tr>\n",
       "    <tr>\n",
       "      <th>2</th>\n",
       "      <td>Neymar</td>\n",
       "      <td>Brazil</td>\n",
       "      <td>LW</td>\n",
       "      <td>10.0</td>\n",
       "      <td>FC Barcelona</td>\n",
       "      <td>LW</td>\n",
       "      <td>11.0</td>\n",
       "      <td>07/01/2013</td>\n",
       "      <td>2021.0</td>\n",
       "      <td>92</td>\n",
       "      <td>...</td>\n",
       "      <td>77</td>\n",
       "      <td>79</td>\n",
       "      <td>84</td>\n",
       "      <td>81</td>\n",
       "      <td>83</td>\n",
       "      <td>15</td>\n",
       "      <td>9</td>\n",
       "      <td>15</td>\n",
       "      <td>9</td>\n",
       "      <td>11</td>\n",
       "    </tr>\n",
       "    <tr>\n",
       "      <th>3</th>\n",
       "      <td>Luis Suárez</td>\n",
       "      <td>Uruguay</td>\n",
       "      <td>LS</td>\n",
       "      <td>9.0</td>\n",
       "      <td>FC Barcelona</td>\n",
       "      <td>ST</td>\n",
       "      <td>9.0</td>\n",
       "      <td>07/11/2014</td>\n",
       "      <td>2021.0</td>\n",
       "      <td>92</td>\n",
       "      <td>...</td>\n",
       "      <td>86</td>\n",
       "      <td>86</td>\n",
       "      <td>84</td>\n",
       "      <td>85</td>\n",
       "      <td>88</td>\n",
       "      <td>33</td>\n",
       "      <td>27</td>\n",
       "      <td>31</td>\n",
       "      <td>25</td>\n",
       "      <td>37</td>\n",
       "    </tr>\n",
       "    <tr>\n",
       "      <th>4</th>\n",
       "      <td>Manuel Neuer</td>\n",
       "      <td>Germany</td>\n",
       "      <td>GK</td>\n",
       "      <td>1.0</td>\n",
       "      <td>FC Bayern</td>\n",
       "      <td>GK</td>\n",
       "      <td>1.0</td>\n",
       "      <td>07/01/2011</td>\n",
       "      <td>2021.0</td>\n",
       "      <td>92</td>\n",
       "      <td>...</td>\n",
       "      <td>16</td>\n",
       "      <td>14</td>\n",
       "      <td>11</td>\n",
       "      <td>47</td>\n",
       "      <td>11</td>\n",
       "      <td>91</td>\n",
       "      <td>89</td>\n",
       "      <td>95</td>\n",
       "      <td>90</td>\n",
       "      <td>89</td>\n",
       "    </tr>\n",
       "    <tr>\n",
       "      <th>...</th>\n",
       "      <td>...</td>\n",
       "      <td>...</td>\n",
       "      <td>...</td>\n",
       "      <td>...</td>\n",
       "      <td>...</td>\n",
       "      <td>...</td>\n",
       "      <td>...</td>\n",
       "      <td>...</td>\n",
       "      <td>...</td>\n",
       "      <td>...</td>\n",
       "      <td>...</td>\n",
       "      <td>...</td>\n",
       "      <td>...</td>\n",
       "      <td>...</td>\n",
       "      <td>...</td>\n",
       "      <td>...</td>\n",
       "      <td>...</td>\n",
       "      <td>...</td>\n",
       "      <td>...</td>\n",
       "      <td>...</td>\n",
       "      <td>...</td>\n",
       "    </tr>\n",
       "    <tr>\n",
       "      <th>17583</th>\n",
       "      <td>Adam Dunbar</td>\n",
       "      <td>Republic of Ireland</td>\n",
       "      <td>NaN</td>\n",
       "      <td>NaN</td>\n",
       "      <td>Wexford Youths</td>\n",
       "      <td>Sub</td>\n",
       "      <td>30.0</td>\n",
       "      <td>02/01/2016</td>\n",
       "      <td>2020.0</td>\n",
       "      <td>45</td>\n",
       "      <td>...</td>\n",
       "      <td>13</td>\n",
       "      <td>11</td>\n",
       "      <td>13</td>\n",
       "      <td>15</td>\n",
       "      <td>12</td>\n",
       "      <td>39</td>\n",
       "      <td>44</td>\n",
       "      <td>52</td>\n",
       "      <td>41</td>\n",
       "      <td>46</td>\n",
       "    </tr>\n",
       "    <tr>\n",
       "      <th>17584</th>\n",
       "      <td>Dylan McGoey</td>\n",
       "      <td>Republic of Ireland</td>\n",
       "      <td>NaN</td>\n",
       "      <td>NaN</td>\n",
       "      <td>Longford Town</td>\n",
       "      <td>Sub</td>\n",
       "      <td>28.0</td>\n",
       "      <td>01/01/2016</td>\n",
       "      <td>2020.0</td>\n",
       "      <td>45</td>\n",
       "      <td>...</td>\n",
       "      <td>11</td>\n",
       "      <td>12</td>\n",
       "      <td>13</td>\n",
       "      <td>16</td>\n",
       "      <td>12</td>\n",
       "      <td>47</td>\n",
       "      <td>39</td>\n",
       "      <td>46</td>\n",
       "      <td>46</td>\n",
       "      <td>46</td>\n",
       "    </tr>\n",
       "    <tr>\n",
       "      <th>17585</th>\n",
       "      <td>Tommy Ouldridge</td>\n",
       "      <td>England</td>\n",
       "      <td>NaN</td>\n",
       "      <td>NaN</td>\n",
       "      <td>Swindon Town</td>\n",
       "      <td>Res</td>\n",
       "      <td>32.0</td>\n",
       "      <td>03/03/2015</td>\n",
       "      <td>2023.0</td>\n",
       "      <td>45</td>\n",
       "      <td>...</td>\n",
       "      <td>42</td>\n",
       "      <td>35</td>\n",
       "      <td>36</td>\n",
       "      <td>42</td>\n",
       "      <td>37</td>\n",
       "      <td>15</td>\n",
       "      <td>7</td>\n",
       "      <td>13</td>\n",
       "      <td>14</td>\n",
       "      <td>7</td>\n",
       "    </tr>\n",
       "    <tr>\n",
       "      <th>17586</th>\n",
       "      <td>Mark Foden</td>\n",
       "      <td>Scotland</td>\n",
       "      <td>NaN</td>\n",
       "      <td>NaN</td>\n",
       "      <td>Ross County</td>\n",
       "      <td>Sub</td>\n",
       "      <td>45.0</td>\n",
       "      <td>03/02/2016</td>\n",
       "      <td>2017.0</td>\n",
       "      <td>45</td>\n",
       "      <td>...</td>\n",
       "      <td>12</td>\n",
       "      <td>13</td>\n",
       "      <td>12</td>\n",
       "      <td>24</td>\n",
       "      <td>12</td>\n",
       "      <td>40</td>\n",
       "      <td>45</td>\n",
       "      <td>44</td>\n",
       "      <td>43</td>\n",
       "      <td>45</td>\n",
       "    </tr>\n",
       "    <tr>\n",
       "      <th>17587</th>\n",
       "      <td>Barry Richardson</td>\n",
       "      <td>England</td>\n",
       "      <td>NaN</td>\n",
       "      <td>NaN</td>\n",
       "      <td>Wycombe</td>\n",
       "      <td>Sub</td>\n",
       "      <td>13.0</td>\n",
       "      <td>01/30/2014</td>\n",
       "      <td>2023.0</td>\n",
       "      <td>45</td>\n",
       "      <td>...</td>\n",
       "      <td>16</td>\n",
       "      <td>12</td>\n",
       "      <td>11</td>\n",
       "      <td>22</td>\n",
       "      <td>12</td>\n",
       "      <td>58</td>\n",
       "      <td>37</td>\n",
       "      <td>37</td>\n",
       "      <td>51</td>\n",
       "      <td>33</td>\n",
       "    </tr>\n",
       "  </tbody>\n",
       "</table>\n",
       "<p>17588 rows × 53 columns</p>\n",
       "</div>"
      ],
      "text/plain": [
       "                    Name          Nationality National_Position  National_Kit  \\\n",
       "0      Cristiano Ronaldo             Portugal                LS           7.0   \n",
       "1           Lionel Messi            Argentina                RW          10.0   \n",
       "2                 Neymar               Brazil                LW          10.0   \n",
       "3            Luis Suárez              Uruguay                LS           9.0   \n",
       "4           Manuel Neuer              Germany                GK           1.0   \n",
       "...                  ...                  ...               ...           ...   \n",
       "17583        Adam Dunbar  Republic of Ireland               NaN           NaN   \n",
       "17584       Dylan McGoey  Republic of Ireland               NaN           NaN   \n",
       "17585    Tommy Ouldridge              England               NaN           NaN   \n",
       "17586         Mark Foden             Scotland               NaN           NaN   \n",
       "17587   Barry Richardson              England               NaN           NaN   \n",
       "\n",
       "                 Club Club_Position  Club_Kit Club_Joining  Contract_Expiry  \\\n",
       "0         Real Madrid            LW       7.0   07/01/2009           2021.0   \n",
       "1        FC Barcelona            RW      10.0   07/01/2004           2018.0   \n",
       "2        FC Barcelona            LW      11.0   07/01/2013           2021.0   \n",
       "3        FC Barcelona            ST       9.0   07/11/2014           2021.0   \n",
       "4           FC Bayern            GK       1.0   07/01/2011           2021.0   \n",
       "...               ...           ...       ...          ...              ...   \n",
       "17583  Wexford Youths           Sub      30.0   02/01/2016           2020.0   \n",
       "17584   Longford Town           Sub      28.0   01/01/2016           2020.0   \n",
       "17585    Swindon Town           Res      32.0   03/03/2015           2023.0   \n",
       "17586     Ross County           Sub      45.0   03/02/2016           2017.0   \n",
       "17587         Wycombe           Sub      13.0   01/30/2014           2023.0   \n",
       "\n",
       "       Rating  ... Long_Shots Curve Freekick_Accuracy Penalties  Volleys  \\\n",
       "0          94  ...         90    81                76        85       88   \n",
       "1          93  ...         88    89                90        74       85   \n",
       "2          92  ...         77    79                84        81       83   \n",
       "3          92  ...         86    86                84        85       88   \n",
       "4          92  ...         16    14                11        47       11   \n",
       "...       ...  ...        ...   ...               ...       ...      ...   \n",
       "17583      45  ...         13    11                13        15       12   \n",
       "17584      45  ...         11    12                13        16       12   \n",
       "17585      45  ...         42    35                36        42       37   \n",
       "17586      45  ...         12    13                12        24       12   \n",
       "17587      45  ...         16    12                11        22       12   \n",
       "\n",
       "      GK_Positioning GK_Diving  GK_Kicking  GK_Handling  GK_Reflexes  \n",
       "0                 14         7          15           11           11  \n",
       "1                 14         6          15           11            8  \n",
       "2                 15         9          15            9           11  \n",
       "3                 33        27          31           25           37  \n",
       "4                 91        89          95           90           89  \n",
       "...              ...       ...         ...          ...          ...  \n",
       "17583             39        44          52           41           46  \n",
       "17584             47        39          46           46           46  \n",
       "17585             15         7          13           14            7  \n",
       "17586             40        45          44           43           45  \n",
       "17587             58        37          37           51           33  \n",
       "\n",
       "[17588 rows x 53 columns]"
      ]
     },
     "execution_count": 3,
     "metadata": {},
     "output_type": "execute_result"
    }
   ],
   "source": [
    "df.replace(' ', None)"
   ]
  },
  {
   "cell_type": "code",
   "execution_count": null,
   "id": "differential-bristol",
   "metadata": {
    "id": "XAvqp02mE8Bi",
    "papermill": {
     "duration": 0.018376,
     "end_time": "2025-01-21T18:23:56.462163",
     "exception": false,
     "start_time": "2025-01-21T18:23:56.443787",
     "status": "completed"
    },
    "tags": []
   },
   "outputs": [],
   "source": []
  },
  {
   "cell_type": "code",
   "execution_count": 4,
   "id": "romance-preserve",
   "metadata": {
    "execution": {
     "iopub.execute_input": "2025-01-21T18:23:56.516208Z",
     "iopub.status.busy": "2025-01-21T18:23:56.514174Z",
     "iopub.status.idle": "2025-01-21T18:23:56.837660Z",
     "shell.execute_reply": "2025-01-21T18:23:56.837063Z",
     "shell.execute_reply.started": "2021-05-22T08:42:55.291882Z"
    },
    "id": "EbqW7q0EE_vz",
    "outputId": "559eaf11-87b3-48c9-81b2-dad659f33a33",
    "papermill": {
     "duration": 0.357074,
     "end_time": "2025-01-21T18:23:56.837825",
     "exception": false,
     "start_time": "2025-01-21T18:23:56.480751",
     "status": "completed"
    },
    "tags": []
   },
   "outputs": [
    {
     "data": {
      "text/plain": [
       "<AxesSubplot:xlabel='Age', ylabel='count'>"
      ]
     },
     "execution_count": 4,
     "metadata": {},
     "output_type": "execute_result"
    },
    {
     "data": {
      "image/png": "[encoded data removed]",
      "text/plain": [
       "<Figure size 1080x432 with 1 Axes>"
      ]
     },
     "metadata": {
      "needs_background": "light"
     },
     "output_type": "display_data"
    }
   ],
   "source": [
    "plt.figure(figsize=(15,6))\n",
    "sns.countplot(x=\"Age\",data=df)  "
   ]
  },
  {
   "cell_type": "code",
   "execution_count": 5,
   "id": "proof-material",
   "metadata": {
    "execution": {
     "iopub.execute_input": "2025-01-21T18:23:56.889335Z",
     "iopub.status.busy": "2025-01-21T18:23:56.888615Z",
     "iopub.status.idle": "2025-01-21T18:23:56.926324Z",
     "shell.execute_reply": "2025-01-21T18:23:56.926731Z",
     "shell.execute_reply.started": "2021-05-22T08:42:56.461271Z"
    },
    "id": "dckHjfGRFkvL",
    "outputId": "f07a10ea-2d2f-414e-91af-fe0ff5e875bf",
    "papermill": {
     "duration": 0.069264,
     "end_time": "2025-01-21T18:23:56.926934",
     "exception": false,
     "start_time": "2025-01-21T18:23:56.857670",
     "status": "completed"
    },
    "tags": []
   },
   "outputs": [
    {
     "data": {
      "text/html": [
       "<div>\n",
       "<style scoped>\n",
       "    .dataframe tbody tr th:only-of-type {\n",
       "        vertical-align: middle;\n",
       "    }\n",
       "\n",
       "    .dataframe tbody tr th {\n",
       "        vertical-align: top;\n",
       "    }\n",
       "\n",
       "    .dataframe thead th {\n",
       "        text-align: right;\n",
       "    }\n",
       "</style>\n",
       "<table border=\"1\" class=\"dataframe\">\n",
       "  <thead>\n",
       "    <tr style=\"text-align: right;\">\n",
       "      <th></th>\n",
       "      <th>Name</th>\n",
       "      <th>Nationality</th>\n",
       "      <th>National_Position</th>\n",
       "      <th>Club</th>\n",
       "      <th>Club_Position</th>\n",
       "      <th>Club_Joining</th>\n",
       "      <th>Rating</th>\n",
       "      <th>Preffered_Foot</th>\n",
       "      <th>Age</th>\n",
       "      <th>Preffered_Position</th>\n",
       "      <th>...</th>\n",
       "      <th>Long_Shots</th>\n",
       "      <th>Curve</th>\n",
       "      <th>Freekick_Accuracy</th>\n",
       "      <th>Penalties</th>\n",
       "      <th>Volleys</th>\n",
       "      <th>GK_Positioning</th>\n",
       "      <th>GK_Diving</th>\n",
       "      <th>GK_Kicking</th>\n",
       "      <th>GK_Handling</th>\n",
       "      <th>GK_Reflexes</th>\n",
       "    </tr>\n",
       "  </thead>\n",
       "  <tbody>\n",
       "    <tr>\n",
       "      <th>0</th>\n",
       "      <td>Cristiano Ronaldo</td>\n",
       "      <td>Portugal</td>\n",
       "      <td>LS</td>\n",
       "      <td>Real Madrid</td>\n",
       "      <td>LW</td>\n",
       "      <td>07/01/2009</td>\n",
       "      <td>94</td>\n",
       "      <td>Right</td>\n",
       "      <td>32</td>\n",
       "      <td>LW/ST</td>\n",
       "      <td>...</td>\n",
       "      <td>90</td>\n",
       "      <td>81</td>\n",
       "      <td>76</td>\n",
       "      <td>85</td>\n",
       "      <td>88</td>\n",
       "      <td>14</td>\n",
       "      <td>7</td>\n",
       "      <td>15</td>\n",
       "      <td>11</td>\n",
       "      <td>11</td>\n",
       "    </tr>\n",
       "    <tr>\n",
       "      <th>1</th>\n",
       "      <td>Lionel Messi</td>\n",
       "      <td>Argentina</td>\n",
       "      <td>RW</td>\n",
       "      <td>FC Barcelona</td>\n",
       "      <td>RW</td>\n",
       "      <td>07/01/2004</td>\n",
       "      <td>93</td>\n",
       "      <td>Left</td>\n",
       "      <td>29</td>\n",
       "      <td>RW</td>\n",
       "      <td>...</td>\n",
       "      <td>88</td>\n",
       "      <td>89</td>\n",
       "      <td>90</td>\n",
       "      <td>74</td>\n",
       "      <td>85</td>\n",
       "      <td>14</td>\n",
       "      <td>6</td>\n",
       "      <td>15</td>\n",
       "      <td>11</td>\n",
       "      <td>8</td>\n",
       "    </tr>\n",
       "    <tr>\n",
       "      <th>2</th>\n",
       "      <td>Neymar</td>\n",
       "      <td>Brazil</td>\n",
       "      <td>LW</td>\n",
       "      <td>FC Barcelona</td>\n",
       "      <td>LW</td>\n",
       "      <td>07/01/2013</td>\n",
       "      <td>92</td>\n",
       "      <td>Right</td>\n",
       "      <td>25</td>\n",
       "      <td>LW</td>\n",
       "      <td>...</td>\n",
       "      <td>77</td>\n",
       "      <td>79</td>\n",
       "      <td>84</td>\n",
       "      <td>81</td>\n",
       "      <td>83</td>\n",
       "      <td>15</td>\n",
       "      <td>9</td>\n",
       "      <td>15</td>\n",
       "      <td>9</td>\n",
       "      <td>11</td>\n",
       "    </tr>\n",
       "    <tr>\n",
       "      <th>3</th>\n",
       "      <td>Luis Suárez</td>\n",
       "      <td>Uruguay</td>\n",
       "      <td>LS</td>\n",
       "      <td>FC Barcelona</td>\n",
       "      <td>ST</td>\n",
       "      <td>07/11/2014</td>\n",
       "      <td>92</td>\n",
       "      <td>Right</td>\n",
       "      <td>30</td>\n",
       "      <td>ST</td>\n",
       "      <td>...</td>\n",
       "      <td>86</td>\n",
       "      <td>86</td>\n",
       "      <td>84</td>\n",
       "      <td>85</td>\n",
       "      <td>88</td>\n",
       "      <td>33</td>\n",
       "      <td>27</td>\n",
       "      <td>31</td>\n",
       "      <td>25</td>\n",
       "      <td>37</td>\n",
       "    </tr>\n",
       "    <tr>\n",
       "      <th>4</th>\n",
       "      <td>Manuel Neuer</td>\n",
       "      <td>Germany</td>\n",
       "      <td>GK</td>\n",
       "      <td>FC Bayern</td>\n",
       "      <td>GK</td>\n",
       "      <td>07/01/2011</td>\n",
       "      <td>92</td>\n",
       "      <td>Right</td>\n",
       "      <td>31</td>\n",
       "      <td>GK</td>\n",
       "      <td>...</td>\n",
       "      <td>16</td>\n",
       "      <td>14</td>\n",
       "      <td>11</td>\n",
       "      <td>47</td>\n",
       "      <td>11</td>\n",
       "      <td>91</td>\n",
       "      <td>89</td>\n",
       "      <td>95</td>\n",
       "      <td>90</td>\n",
       "      <td>89</td>\n",
       "    </tr>\n",
       "    <tr>\n",
       "      <th>...</th>\n",
       "      <td>...</td>\n",
       "      <td>...</td>\n",
       "      <td>...</td>\n",
       "      <td>...</td>\n",
       "      <td>...</td>\n",
       "      <td>...</td>\n",
       "      <td>...</td>\n",
       "      <td>...</td>\n",
       "      <td>...</td>\n",
       "      <td>...</td>\n",
       "      <td>...</td>\n",
       "      <td>...</td>\n",
       "      <td>...</td>\n",
       "      <td>...</td>\n",
       "      <td>...</td>\n",
       "      <td>...</td>\n",
       "      <td>...</td>\n",
       "      <td>...</td>\n",
       "      <td>...</td>\n",
       "      <td>...</td>\n",
       "      <td>...</td>\n",
       "    </tr>\n",
       "    <tr>\n",
       "      <th>17583</th>\n",
       "      <td>Adam Dunbar</td>\n",
       "      <td>Republic of Ireland</td>\n",
       "      <td>NaN</td>\n",
       "      <td>Wexford Youths</td>\n",
       "      <td>Sub</td>\n",
       "      <td>02/01/2016</td>\n",
       "      <td>45</td>\n",
       "      <td>Right</td>\n",
       "      <td>19</td>\n",
       "      <td>GK</td>\n",
       "      <td>...</td>\n",
       "      <td>13</td>\n",
       "      <td>11</td>\n",
       "      <td>13</td>\n",
       "      <td>15</td>\n",
       "      <td>12</td>\n",
       "      <td>39</td>\n",
       "      <td>44</td>\n",
       "      <td>52</td>\n",
       "      <td>41</td>\n",
       "      <td>46</td>\n",
       "    </tr>\n",
       "    <tr>\n",
       "      <th>17584</th>\n",
       "      <td>Dylan McGoey</td>\n",
       "      <td>Republic of Ireland</td>\n",
       "      <td>NaN</td>\n",
       "      <td>Longford Town</td>\n",
       "      <td>Sub</td>\n",
       "      <td>01/01/2016</td>\n",
       "      <td>45</td>\n",
       "      <td>Right</td>\n",
       "      <td>19</td>\n",
       "      <td>GK</td>\n",
       "      <td>...</td>\n",
       "      <td>11</td>\n",
       "      <td>12</td>\n",
       "      <td>13</td>\n",
       "      <td>16</td>\n",
       "      <td>12</td>\n",
       "      <td>47</td>\n",
       "      <td>39</td>\n",
       "      <td>46</td>\n",
       "      <td>46</td>\n",
       "      <td>46</td>\n",
       "    </tr>\n",
       "    <tr>\n",
       "      <th>17585</th>\n",
       "      <td>Tommy Ouldridge</td>\n",
       "      <td>England</td>\n",
       "      <td>NaN</td>\n",
       "      <td>Swindon Town</td>\n",
       "      <td>Res</td>\n",
       "      <td>03/03/2015</td>\n",
       "      <td>45</td>\n",
       "      <td>Right</td>\n",
       "      <td>18</td>\n",
       "      <td>CM</td>\n",
       "      <td>...</td>\n",
       "      <td>42</td>\n",
       "      <td>35</td>\n",
       "      <td>36</td>\n",
       "      <td>42</td>\n",
       "      <td>37</td>\n",
       "      <td>15</td>\n",
       "      <td>7</td>\n",
       "      <td>13</td>\n",
       "      <td>14</td>\n",
       "      <td>7</td>\n",
       "    </tr>\n",
       "    <tr>\n",
       "      <th>17586</th>\n",
       "      <td>Mark Foden</td>\n",
       "      <td>Scotland</td>\n",
       "      <td>NaN</td>\n",
       "      <td>Ross County</td>\n",
       "      <td>Sub</td>\n",
       "      <td>03/02/2016</td>\n",
       "      <td>45</td>\n",
       "      <td>Right</td>\n",
       "      <td>21</td>\n",
       "      <td>GK</td>\n",
       "      <td>...</td>\n",
       "      <td>12</td>\n",
       "      <td>13</td>\n",
       "      <td>12</td>\n",
       "      <td>24</td>\n",
       "      <td>12</td>\n",
       "      <td>40</td>\n",
       "      <td>45</td>\n",
       "      <td>44</td>\n",
       "      <td>43</td>\n",
       "      <td>45</td>\n",
       "    </tr>\n",
       "    <tr>\n",
       "      <th>17587</th>\n",
       "      <td>Barry Richardson</td>\n",
       "      <td>England</td>\n",
       "      <td>NaN</td>\n",
       "      <td>Wycombe</td>\n",
       "      <td>Sub</td>\n",
       "      <td>01/30/2014</td>\n",
       "      <td>45</td>\n",
       "      <td>Right</td>\n",
       "      <td>47</td>\n",
       "      <td>GK</td>\n",
       "      <td>...</td>\n",
       "      <td>16</td>\n",
       "      <td>12</td>\n",
       "      <td>11</td>\n",
       "      <td>22</td>\n",
       "      <td>12</td>\n",
       "      <td>58</td>\n",
       "      <td>37</td>\n",
       "      <td>37</td>\n",
       "      <td>51</td>\n",
       "      <td>33</td>\n",
       "    </tr>\n",
       "  </tbody>\n",
       "</table>\n",
       "<p>17588 rows × 47 columns</p>\n",
       "</div>"
      ],
      "text/plain": [
       "                    Name          Nationality National_Position  \\\n",
       "0      Cristiano Ronaldo             Portugal                LS   \n",
       "1           Lionel Messi            Argentina                RW   \n",
       "2                 Neymar               Brazil                LW   \n",
       "3            Luis Suárez              Uruguay                LS   \n",
       "4           Manuel Neuer              Germany                GK   \n",
       "...                  ...                  ...               ...   \n",
       "17583        Adam Dunbar  Republic of Ireland               NaN   \n",
       "17584       Dylan McGoey  Republic of Ireland               NaN   \n",
       "17585    Tommy Ouldridge              England               NaN   \n",
       "17586         Mark Foden             Scotland               NaN   \n",
       "17587   Barry Richardson              England               NaN   \n",
       "\n",
       "                 Club Club_Position Club_Joining  Rating Preffered_Foot  Age  \\\n",
       "0         Real Madrid            LW   07/01/2009      94          Right   32   \n",
       "1        FC Barcelona            RW   07/01/2004      93           Left   29   \n",
       "2        FC Barcelona            LW   07/01/2013      92          Right   25   \n",
       "3        FC Barcelona            ST   07/11/2014      92          Right   30   \n",
       "4           FC Bayern            GK   07/01/2011      92          Right   31   \n",
       "...               ...           ...          ...     ...            ...  ...   \n",
       "17583  Wexford Youths           Sub   02/01/2016      45          Right   19   \n",
       "17584   Longford Town           Sub   01/01/2016      45          Right   19   \n",
       "17585    Swindon Town           Res   03/03/2015      45          Right   18   \n",
       "17586     Ross County           Sub   03/02/2016      45          Right   21   \n",
       "17587         Wycombe           Sub   01/30/2014      45          Right   47   \n",
       "\n",
       "      Preffered_Position  ... Long_Shots  Curve  Freekick_Accuracy  Penalties  \\\n",
       "0                  LW/ST  ...         90     81                 76         85   \n",
       "1                     RW  ...         88     89                 90         74   \n",
       "2                     LW  ...         77     79                 84         81   \n",
       "3                     ST  ...         86     86                 84         85   \n",
       "4                     GK  ...         16     14                 11         47   \n",
       "...                  ...  ...        ...    ...                ...        ...   \n",
       "17583                 GK  ...         13     11                 13         15   \n",
       "17584                 GK  ...         11     12                 13         16   \n",
       "17585                 CM  ...         42     35                 36         42   \n",
       "17586                 GK  ...         12     13                 12         24   \n",
       "17587                 GK  ...         16     12                 11         22   \n",
       "\n",
       "       Volleys  GK_Positioning  GK_Diving  GK_Kicking  GK_Handling  \\\n",
       "0           88              14          7          15           11   \n",
       "1           85              14          6          15           11   \n",
       "2           83              15          9          15            9   \n",
       "3           88              33         27          31           25   \n",
       "4           11              91         89          95           90   \n",
       "...        ...             ...        ...         ...          ...   \n",
       "17583       12              39         44          52           41   \n",
       "17584       12              47         39          46           46   \n",
       "17585       37              15          7          13           14   \n",
       "17586       12              40         45          44           43   \n",
       "17587       12              58         37          37           51   \n",
       "\n",
       "       GK_Reflexes  \n",
       "0               11  \n",
       "1                8  \n",
       "2               11  \n",
       "3               37  \n",
       "4               89  \n",
       "...            ...  \n",
       "17583           46  \n",
       "17584           46  \n",
       "17585            7  \n",
       "17586           45  \n",
       "17587           33  \n",
       "\n",
       "[17588 rows x 47 columns]"
      ]
     },
     "execution_count": 5,
     "metadata": {},
     "output_type": "execute_result"
    }
   ],
   "source": [
    "df.drop(['Club_Kit', 'National_Kit', 'Contract_Expiry', 'Height', 'Weight', 'Birth_Date'], axis=1)"
   ]
  },
  {
   "cell_type": "code",
   "execution_count": 6,
   "id": "improving-vehicle",
   "metadata": {
    "execution": {
     "iopub.execute_input": "2025-01-21T18:23:56.988072Z",
     "iopub.status.busy": "2025-01-21T18:23:56.987243Z",
     "iopub.status.idle": "2025-01-21T18:23:57.029006Z",
     "shell.execute_reply": "2025-01-21T18:23:57.028336Z",
     "shell.execute_reply.started": "2021-05-22T08:42:57.532860Z"
    },
    "id": "F8F5auHOFoZ7",
    "papermill": {
     "duration": 0.077052,
     "end_time": "2025-01-21T18:23:57.029149",
     "exception": false,
     "start_time": "2025-01-21T18:23:56.952097",
     "status": "completed"
    },
    "tags": []
   },
   "outputs": [],
   "source": [
    "a = 1\n",
    "b = 2\n",
    "c= 3\n",
    "d = 4\n",
    "\n",
    "df['gk_Shot_Stopper'] = (b*df.Reactions + b*df.Composure + a*df.Speed + a*df.Strength + c*df.Jumping + b*df.GK_Positioning + c*df.GK_Diving + d*df.GK_Reflexes + b*df.GK_Handling)/(2*a + 4*b + 2*c + 1*d)\n",
    "df['gk_Sweeper'] = (b*df.Reactions + b*df.Composure + b*df.Speed + a*df.Short_Pass + a*df.Long_Pass + b*df.Jumping + b*df.GK_Positioning + b*df.GK_Diving + d*df.GK_Reflexes + b*df.GK_Handling + d*df.GK_Kicking + c*df.Vision)/(2*a + 4*b + 3*c + 2*d)"
   ]
  },
  {
   "cell_type": "code",
   "execution_count": 7,
   "id": "stone-sweden",
   "metadata": {
    "execution": {
     "iopub.execute_input": "2025-01-21T18:23:57.077216Z",
     "iopub.status.busy": "2025-01-21T18:23:57.076568Z",
     "iopub.status.idle": "2025-01-21T18:23:57.247994Z",
     "shell.execute_reply": "2025-01-21T18:23:57.248412Z",
     "shell.execute_reply.started": "2021-05-22T08:42:58.853472Z"
    },
    "id": "JYi4Pji2FrOb",
    "outputId": "9843e7c8-1d58-40e3-cafa-b2a87032f2e2",
    "papermill": {
     "duration": 0.198715,
     "end_time": "2025-01-21T18:23:57.248577",
     "exception": false,
     "start_time": "2025-01-21T18:23:57.049862",
     "status": "completed"
    },
    "tags": []
   },
   "outputs": [
    {
     "name": "stderr",
     "output_type": "stream",
     "text": [
      "/opt/conda/lib/python3.7/site-packages/seaborn/_decorators.py:43: FutureWarning: Pass the following variables as keyword args: x, y. From version 0.12, the only valid positional argument will be `data`, and passing other arguments without an explicit keyword will result in an error or misinterpretation.\n",
      "  FutureWarning\n"
     ]
    },
    {
     "data": {
      "text/plain": [
       "Text(0, 0.5, 'Shot Stopping Score')"
      ]
     },
     "execution_count": 7,
     "metadata": {},
     "output_type": "execute_result"
    },
    {
     "data": {
      "image/png": "[encoded data removed]",
      "text/plain": [
       "<Figure size 1080x432 with 1 Axes>"
      ]
     },
     "metadata": {
      "needs_background": "light"
     },
     "output_type": "display_data"
    }
   ],
   "source": [
    "plt.figure(figsize=(15,6))\n",
    "\n",
    "sd = df.sort_values('gk_Shot_Stopper', ascending=False)[:5]\n",
    "x1 = np.array(list(sd['Name']))\n",
    "y1 = np.array(list(sd['gk_Shot_Stopper']))\n",
    "sns.barplot(x1, y1, palette= \"husl\")\n",
    "plt.ylabel(\"Shot Stopping Score\")"
   ]
  },
  {
   "cell_type": "code",
   "execution_count": 8,
   "id": "sensitive-interest",
   "metadata": {
    "execution": {
     "iopub.execute_input": "2025-01-21T18:23:57.299328Z",
     "iopub.status.busy": "2025-01-21T18:23:57.298649Z",
     "iopub.status.idle": "2025-01-21T18:23:57.467320Z",
     "shell.execute_reply": "2025-01-21T18:23:57.466814Z",
     "shell.execute_reply.started": "2021-05-22T08:42:59.959549Z"
    },
    "id": "ZrKeZqxqFs46",
    "outputId": "4e6f0ff7-b66f-4917-e662-d44dd37dc726",
    "papermill": {
     "duration": 0.196478,
     "end_time": "2025-01-21T18:23:57.467459",
     "exception": false,
     "start_time": "2025-01-21T18:23:57.270981",
     "status": "completed"
    },
    "tags": []
   },
   "outputs": [
    {
     "name": "stderr",
     "output_type": "stream",
     "text": [
      "/opt/conda/lib/python3.7/site-packages/seaborn/_decorators.py:43: FutureWarning: Pass the following variables as keyword args: x, y. From version 0.12, the only valid positional argument will be `data`, and passing other arguments without an explicit keyword will result in an error or misinterpretation.\n",
      "  FutureWarning\n"
     ]
    },
    {
     "data": {
      "text/plain": [
       "Text(0, 0.5, 'Sweeping Score')"
      ]
     },
     "execution_count": 8,
     "metadata": {},
     "output_type": "execute_result"
    },
    {
     "data": {
      "image/png": "[encoded data removed]",
      "text/plain": [
       "<Figure size 1080x432 with 1 Axes>"
      ]
     },
     "metadata": {
      "needs_background": "light"
     },
     "output_type": "display_data"
    }
   ],
   "source": [
    "plt.figure(figsize=(15,6))\n",
    "sd = df.sort_values('gk_Sweeper', ascending=False)[:5]\n",
    "x2 = np.array(list(sd['Name']))\n",
    "y2 = np.array(list(sd['gk_Sweeper']))\n",
    "sns.barplot(x2, y2, palette= \"PuBuGn_d\")\n",
    "\n",
    "\n",
    "plt.ylabel(\"Sweeping Score\")"
   ]
  },
  {
   "cell_type": "code",
   "execution_count": 9,
   "id": "divine-vulnerability",
   "metadata": {
    "execution": {
     "iopub.execute_input": "2025-01-21T18:23:57.523708Z",
     "iopub.status.busy": "2025-01-21T18:23:57.522910Z",
     "iopub.status.idle": "2025-01-21T18:23:57.553370Z",
     "shell.execute_reply": "2025-01-21T18:23:57.553835Z",
     "shell.execute_reply.started": "2021-05-22T08:43:01.193470Z"
    },
    "id": "BHAYdq5_FvBy",
    "papermill": {
     "duration": 0.063332,
     "end_time": "2025-01-21T18:23:57.554016",
     "exception": false,
     "start_time": "2025-01-21T18:23:57.490684",
     "status": "completed"
    },
    "tags": []
   },
   "outputs": [],
   "source": [
    "df['df_centre_backs'] = ( d*df.Reactions + c*df.Interceptions + d*df.Sliding_Tackle + d*df.Standing_Tackle + b*df.Vision+ b*df.Composure + b*df.Crossing +a*df.Short_Pass + b*df.Long_Pass+ c*df.Acceleration + b*df.Speed\n",
    "+ d*df.Stamina + d*df.Jumping + d*df.Heading + b*df.Long_Shots + d*df.Marking + c*df.Aggression)/(6*b + 3*c + 7*d)\n",
    "df['df_wb_Wing_Backs'] = (b*df.Ball_Control + a*df.Dribbling + a*df.Marking + d*df.Sliding_Tackle + d*df.Standing_Tackle + a*df.Attacking_Position + c*df.Vision + c*df.Crossing + b*df.Short_Pass + c*df.Long_Pass + d*df.Acceleration +d*df.Speed + c*df.Stamina + a*df.Finishing)/(4*a + 2*b + 4*c + 4*d)"
   ]
  },
  {
   "cell_type": "code",
   "execution_count": 10,
   "id": "subject-queen",
   "metadata": {
    "execution": {
     "iopub.execute_input": "2025-01-21T18:23:57.610147Z",
     "iopub.status.busy": "2025-01-21T18:23:57.609519Z",
     "iopub.status.idle": "2025-01-21T18:23:57.724230Z",
     "shell.execute_reply": "2025-01-21T18:23:57.724669Z",
     "shell.execute_reply.started": "2021-05-22T08:43:02.385839Z"
    },
    "id": "5lDO4izAGBXm",
    "outputId": "7df443d1-d6b0-4a49-e299-e877792eb382",
    "papermill": {
     "duration": 0.14765,
     "end_time": "2025-01-21T18:23:57.724872",
     "exception": false,
     "start_time": "2025-01-21T18:23:57.577222",
     "status": "completed"
    },
    "tags": []
   },
   "outputs": [
    {
     "data": {
      "text/plain": [
       "Text(0, 0.5, 'LCB Score')"
      ]
     },
     "execution_count": 10,
     "metadata": {},
     "output_type": "execute_result"
    },
    {
     "data": {
      "text/plain": [
       "<Figure size 1080x432 with 0 Axes>"
      ]
     },
     "metadata": {},
     "output_type": "display_data"
    },
    {
     "data": {
      "image/png": "[encoded data removed]",
      "text/plain": [
       "<Figure size 432x288 with 1 Axes>"
      ]
     },
     "metadata": {},
     "output_type": "display_data"
    }
   ],
   "source": [
    "plt.figure(figsize=(15,6))\n",
    "sd = df[(df['Club_Position'] == 'LCB')].sort_values('df_centre_backs', ascending=False)[:5]\n",
    "x2 = np.array(list(sd['Name']))\n",
    "y2 = np.array(list(sd['df_centre_backs']))\n",
    "fig1, ax1 = plt.subplots()\n",
    "ax1.pie(y2,labels=x2, autopct='%1.2f%%')\n",
    "plt.ylabel(\"LCB Score\")"
   ]
  },
  {
   "cell_type": "code",
   "execution_count": 11,
   "id": "neutral-truth",
   "metadata": {
    "execution": {
     "iopub.execute_input": "2025-01-21T18:23:57.783705Z",
     "iopub.status.busy": "2025-01-21T18:23:57.782720Z",
     "iopub.status.idle": "2025-01-21T18:23:57.937050Z",
     "shell.execute_reply": "2025-01-21T18:23:57.936425Z",
     "shell.execute_reply.started": "2021-05-22T08:43:03.466896Z"
    },
    "id": "kIgSOLx1GDTb",
    "outputId": "ec4a980d-8f74-4759-d665-9f343add0988",
    "papermill": {
     "duration": 0.187147,
     "end_time": "2025-01-21T18:23:57.937185",
     "exception": false,
     "start_time": "2025-01-21T18:23:57.750038",
     "status": "completed"
    },
    "tags": []
   },
   "outputs": [
    {
     "name": "stderr",
     "output_type": "stream",
     "text": [
      "/opt/conda/lib/python3.7/site-packages/seaborn/_decorators.py:43: FutureWarning: Pass the following variables as keyword args: x, y. From version 0.12, the only valid positional argument will be `data`, and passing other arguments without an explicit keyword will result in an error or misinterpretation.\n",
      "  FutureWarning\n"
     ]
    },
    {
     "data": {
      "text/plain": [
       "Text(0, 0.5, 'RCB Score')"
      ]
     },
     "execution_count": 11,
     "metadata": {},
     "output_type": "execute_result"
    },
    {
     "data": {
      "image/png": "[encoded data removed]",
      "text/plain": [
       "<Figure size 1080x432 with 1 Axes>"
      ]
     },
     "metadata": {
      "needs_background": "light"
     },
     "output_type": "display_data"
    }
   ],
   "source": [
    "plt.figure(figsize=(15,6))\n",
    " \n",
    "sd = df[(df['Club_Position'] == 'RCB')].sort_values('df_centre_backs', ascending=False)[:5]\n",
    "x2 = np.array(list(sd['Name']))\n",
    "y2 = np.array(list(sd['df_centre_backs']))\n",
    "sns.barplot(x2, y2, palette=sns.color_palette(\"colorblind\"))\n",
    "plt.ylabel(\"RCB Score\")"
   ]
  },
  {
   "cell_type": "code",
   "execution_count": 12,
   "id": "fourth-personal",
   "metadata": {
    "execution": {
     "iopub.execute_input": "2025-01-21T18:23:57.998480Z",
     "iopub.status.busy": "2025-01-21T18:23:57.997834Z",
     "iopub.status.idle": "2025-01-21T18:23:58.265355Z",
     "shell.execute_reply": "2025-01-21T18:23:58.264779Z",
     "shell.execute_reply.started": "2021-05-22T08:43:04.677571Z"
    },
    "id": "dfJVQVduGFJz",
    "outputId": "03f2b492-bc67-4f34-8b16-1069b5e5c020",
    "papermill": {
     "duration": 0.302828,
     "end_time": "2025-01-21T18:23:58.265486",
     "exception": false,
     "start_time": "2025-01-21T18:23:57.962658",
     "status": "completed"
    },
    "tags": []
   },
   "outputs": [
    {
     "name": "stderr",
     "output_type": "stream",
     "text": [
      "/opt/conda/lib/python3.7/site-packages/seaborn/_decorators.py:43: FutureWarning: Pass the following variables as keyword args: x, y. From version 0.12, the only valid positional argument will be `data`, and passing other arguments without an explicit keyword will result in an error or misinterpretation.\n",
      "  FutureWarning\n"
     ]
    },
    {
     "data": {
      "text/plain": [
       "Text(0, 0.5, 'Left Back Score')"
      ]
     },
     "execution_count": 12,
     "metadata": {},
     "output_type": "execute_result"
    },
    {
     "data": {
      "image/png": "[encoded data removed]",
      "text/plain": [
       "<Figure size 1080x432 with 1 Axes>"
      ]
     },
     "metadata": {
      "needs_background": "light"
     },
     "output_type": "display_data"
    }
   ],
   "source": [
    "plt.figure(figsize=(15,6))\n",
    " \n",
    "sd = df[(df['Club_Position'] == 'LWB') | (df['Club_Position'] == 'LB')].sort_values('df_wb_Wing_Backs', ascending=False)[:5]\n",
    "x4 = np.array(list(sd['Name']))\n",
    "y4 = np.array(list(sd['df_wb_Wing_Backs']))\n",
    "sns.barplot(x4, y4, palette=sns.color_palette(\"Blues_d\"))\n",
    "plt.ylabel(\"Left Back Score\")\n"
   ]
  },
  {
   "cell_type": "code",
   "execution_count": 13,
   "id": "rapid-weekly",
   "metadata": {
    "execution": {
     "iopub.execute_input": "2025-01-21T18:23:58.329478Z",
     "iopub.status.busy": "2025-01-21T18:23:58.328891Z",
     "iopub.status.idle": "2025-01-21T18:23:58.484661Z",
     "shell.execute_reply": "2025-01-21T18:23:58.484124Z",
     "shell.execute_reply.started": "2021-05-22T08:43:05.894180Z"
    },
    "id": "wqdHnLqNGNM7",
    "outputId": "20f2de62-4130-4437-d704-84a77cadd9b3",
    "papermill": {
     "duration": 0.192115,
     "end_time": "2025-01-21T18:23:58.484824",
     "exception": false,
     "start_time": "2025-01-21T18:23:58.292709",
     "status": "completed"
    },
    "tags": []
   },
   "outputs": [
    {
     "name": "stderr",
     "output_type": "stream",
     "text": [
      "/opt/conda/lib/python3.7/site-packages/seaborn/_decorators.py:43: FutureWarning: Pass the following variables as keyword args: x, y. From version 0.12, the only valid positional argument will be `data`, and passing other arguments without an explicit keyword will result in an error or misinterpretation.\n",
      "  FutureWarning\n"
     ]
    },
    {
     "data": {
      "text/plain": [
       "Text(0, 0.5, 'Right Back Score')"
      ]
     },
     "execution_count": 13,
     "metadata": {},
     "output_type": "execute_result"
    },
    {
     "data": {
      "image/png": "[encoded data removed]",
      "text/plain": [
       "<Figure size 1080x432 with 1 Axes>"
      ]
     },
     "metadata": {
      "needs_background": "light"
     },
     "output_type": "display_data"
    }
   ],
   "source": [
    "plt.figure(figsize=(15,6))\n",
    "sd = df[(df['Club_Position'] == 'RWB') | (df['Club_Position'] == 'RB')].sort_values('df_wb_Wing_Backs', ascending=False)[:5]\n",
    "x5 = np.array(list(sd['Name']))\n",
    "y5 = np.array(list(sd['df_wb_Wing_Backs']))\n",
    "sns.barplot(x5, y5, palette=sns.color_palette(\"Blues_d\"))\n",
    "plt.ylabel(\"Right Back Score\")"
   ]
  },
  {
   "cell_type": "code",
   "execution_count": 14,
   "id": "constitutional-latex",
   "metadata": {
    "execution": {
     "iopub.execute_input": "2025-01-21T18:23:58.551605Z",
     "iopub.status.busy": "2025-01-21T18:23:58.550565Z",
     "iopub.status.idle": "2025-01-21T18:23:58.584331Z",
     "shell.execute_reply": "2025-01-21T18:23:58.583602Z",
     "shell.execute_reply.started": "2021-05-22T08:43:07.158808Z"
    },
    "id": "RynxhN_PGPCj",
    "papermill": {
     "duration": 0.071123,
     "end_time": "2025-01-21T18:23:58.584473",
     "exception": false,
     "start_time": "2025-01-21T18:23:58.513350",
     "status": "completed"
    },
    "tags": []
   },
   "outputs": [],
   "source": [
    "df['mf_playmaker'] = (d*df.Ball_Control + d*df.Dribbling + a*df.Marking + d*df.Reactions + d*df.Vision + c*df.Attacking_Position + c*df.Crossing + d*df.Short_Pass + c*df.Long_Pass + c*df.Curve + b*df.Long_Shots + c*df.Freekick_Accuracy)/(1*a + 1*b + 4*c + 4*d)\n",
    "df['mf_beast'] = (d*df.Agility + c*df.Balance + b*df.Jumping + c*df.Strength + d*df.Stamina + a*df.Speed + c*df.Acceleration + d*df.Short_Pass + c*df.Aggression + d*df.Reactions + b*df.Marking + b*df.Standing_Tackle + b*df.Sliding_Tackle + b*df.Interceptions)/(1*a + 5*b + 4*c + 4*d)\n",
    "df['mf_controller'] = (b*df.Weak_foot + d*df.Ball_Control + a*df.Dribbling + a*df.Marking + a*df.Reactions + c*df.Vision + c*df.Composure + d*df.Short_Pass + d*df.Long_Pass)/(2*c + 3*d + 4*a)"
   ]
  },
  {
   "cell_type": "code",
   "execution_count": 15,
   "id": "handmade-jenny",
   "metadata": {
    "execution": {
     "iopub.execute_input": "2025-01-21T18:23:58.653685Z",
     "iopub.status.busy": "2025-01-21T18:23:58.653103Z",
     "iopub.status.idle": "2025-01-21T18:23:58.807999Z",
     "shell.execute_reply": "2025-01-21T18:23:58.807428Z",
     "shell.execute_reply.started": "2021-05-22T08:43:08.532108Z"
    },
    "id": "EBPfYjgCGQa8",
    "outputId": "6518799c-79b7-4f6a-e37d-e3ac2b3b26c5",
    "papermill": {
     "duration": 0.194811,
     "end_time": "2025-01-21T18:23:58.808165",
     "exception": false,
     "start_time": "2025-01-21T18:23:58.613354",
     "status": "completed"
    },
    "tags": []
   },
   "outputs": [
    {
     "name": "stderr",
     "output_type": "stream",
     "text": [
      "/opt/conda/lib/python3.7/site-packages/seaborn/_decorators.py:43: FutureWarning: Pass the following variables as keyword args: x, y. From version 0.12, the only valid positional argument will be `data`, and passing other arguments without an explicit keyword will result in an error or misinterpretation.\n",
      "  FutureWarning\n"
     ]
    },
    {
     "data": {
      "text/plain": [
       "Text(0, 0.5, 'PlayMaker Score')"
      ]
     },
     "execution_count": 15,
     "metadata": {},
     "output_type": "execute_result"
    },
    {
     "data": {
      "image/png": "[encoded data removed]",
      "text/plain": [
       "<Figure size 1080x432 with 1 Axes>"
      ]
     },
     "metadata": {
      "needs_background": "light"
     },
     "output_type": "display_data"
    }
   ],
   "source": [
    "plt.figure(figsize=(15,6))\n",
    " \n",
    "ss = df[(df['Club_Position'] == 'CAM') | (df['Club_Position'] == 'LAM') | (df['Club_Position'] == 'RAM')].sort_values('mf_playmaker', ascending=False)[:5]\n",
    "x3 = np.array(list(ss['Name']))\n",
    "y3 = np.array(list(ss['mf_playmaker']))\n",
    "sns.barplot(x3, y3, palette=sns.diverging_palette(145, 280, s=85, l=25, n=5))\n",
    "plt.ylabel(\"PlayMaker Score\")\n"
   ]
  },
  {
   "cell_type": "code",
   "execution_count": 16,
   "id": "early-gnome",
   "metadata": {
    "execution": {
     "iopub.execute_input": "2025-01-21T18:23:58.878219Z",
     "iopub.status.busy": "2025-01-21T18:23:58.877554Z",
     "iopub.status.idle": "2025-01-21T18:23:59.045368Z",
     "shell.execute_reply": "2025-01-21T18:23:59.044784Z",
     "shell.execute_reply.started": "2021-05-22T08:43:09.640721Z"
    },
    "id": "QnboXbxkGRsD",
    "outputId": "0521c665-adc2-4d92-97db-d2ff5ca23723",
    "papermill": {
     "duration": 0.207375,
     "end_time": "2025-01-21T18:23:59.045500",
     "exception": false,
     "start_time": "2025-01-21T18:23:58.838125",
     "status": "completed"
    },
    "tags": []
   },
   "outputs": [
    {
     "name": "stderr",
     "output_type": "stream",
     "text": [
      "/opt/conda/lib/python3.7/site-packages/seaborn/_decorators.py:43: FutureWarning: Pass the following variables as keyword args: x, y. From version 0.12, the only valid positional argument will be `data`, and passing other arguments without an explicit keyword will result in an error or misinterpretation.\n",
      "  FutureWarning\n"
     ]
    },
    {
     "data": {
      "text/plain": [
       "Text(0, 0.5, 'Best Score')"
      ]
     },
     "execution_count": 16,
     "metadata": {},
     "output_type": "execute_result"
    },
    {
     "data": {
      "image/png": "[encoded data removed]",
      "text/plain": [
       "<Figure size 1080x432 with 1 Axes>"
      ]
     },
     "metadata": {
      "needs_background": "light"
     },
     "output_type": "display_data"
    }
   ],
   "source": [
    "plt.figure(figsize=(15,6))\n",
    " \n",
    "ss = df[(df['Club_Position'] == 'RCM') | (df['Club_Position'] == 'RM')].sort_values('mf_beast', ascending=False)[:5]\n",
    "x2 = np.array(list(ss['Name']))\n",
    "y2 = np.array(list(ss['mf_beast']))\n",
    "sns.barplot(x2, y2, palette=sns.diverging_palette(145, 280, s=85, l=25, n=5))\n",
    "plt.ylabel(\"Best Score\")\n"
   ]
  },
  {
   "cell_type": "code",
   "execution_count": 17,
   "id": "present-cannon",
   "metadata": {
    "execution": {
     "iopub.execute_input": "2025-01-21T18:23:59.118703Z",
     "iopub.status.busy": "2025-01-21T18:23:59.117677Z",
     "iopub.status.idle": "2025-01-21T18:23:59.226818Z",
     "shell.execute_reply": "2025-01-21T18:23:59.226200Z",
     "shell.execute_reply.started": "2021-05-22T08:43:11.556875Z"
    },
    "id": "A-PbcJspGTKT",
    "outputId": "3ffa85a0-22d0-43e8-b15d-62dedbf959aa",
    "papermill": {
     "duration": 0.150511,
     "end_time": "2025-01-21T18:23:59.226964",
     "exception": false,
     "start_time": "2025-01-21T18:23:59.076453",
     "status": "completed"
    },
    "tags": []
   },
   "outputs": [
    {
     "data": {
      "text/plain": [
       "Text(0, 0.5, 'Controller Score')"
      ]
     },
     "execution_count": 17,
     "metadata": {},
     "output_type": "execute_result"
    },
    {
     "data": {
      "text/plain": [
       "<Figure size 1080x432 with 0 Axes>"
      ]
     },
     "metadata": {},
     "output_type": "display_data"
    },
    {
     "data": {
      "image/png": "[encoded data removed]",
      "text/plain": [
       "<Figure size 432x288 with 1 Axes>"
      ]
     },
     "metadata": {},
     "output_type": "display_data"
    }
   ],
   "source": [
    "import matplotlib.pyplot as plt\n",
    "plt.figure(figsize=(15,6))\n",
    "\n",
    "ss = df[(df['Club_Position'] == 'LCM') | (df['Club_Position'] == 'LM')].sort_values('mf_controller', ascending=False)[:5]\n",
    "x1 = np.array(list(ss['Name']))\n",
    "y1 = np.array(list(ss['mf_controller']))\n",
    "fig1, ax1 = plt.subplots()\n",
    "ax1.pie(y1,labels=x1, autopct='%1.2f%%')\n",
    "ax1.axis('equal')\n",
    "plt.ylabel(\"Controller Score\")"
   ]
  },
  {
   "cell_type": "code",
   "execution_count": 18,
   "id": "statewide-portland",
   "metadata": {
    "execution": {
     "iopub.execute_input": "2025-01-21T18:23:59.300627Z",
     "iopub.status.busy": "2025-01-21T18:23:59.299824Z",
     "iopub.status.idle": "2025-01-21T18:23:59.339831Z",
     "shell.execute_reply": "2025-01-21T18:23:59.339110Z",
     "shell.execute_reply.started": "2021-05-22T08:43:12.966763Z"
    },
    "id": "QnHVg-X1GU7T",
    "papermill": {
     "duration": 0.080693,
     "end_time": "2025-01-21T18:23:59.339992",
     "exception": false,
     "start_time": "2025-01-21T18:23:59.259299",
     "status": "completed"
    },
    "tags": []
   },
   "outputs": [],
   "source": [
    "df['att_left_wing'] = (c*df.Weak_foot + c*df.Ball_Control + c*df.Dribbling + c*df.Speed + d*df.Acceleration + b*df.Vision + c*df.Crossing + b*df.Short_Pass + b*df.Long_Pass + b*df.Aggression + b*df.Agility + a*df.Curve + c*df.Long_Shots + b*df.Freekick_Accuracy + d*df.Finishing)/(a + 6*b + 6*c + 2*d)\n",
    "df['att_right_wing'] = (c*df.Weak_foot + c*df.Ball_Control + c*df.Dribbling + c*df.Speed + d*df.Acceleration + b*df.Vision + c*df.Crossing + b*df.Short_Pass + b*df.Long_Pass + b*df.Aggression + b*df.Agility + a*df.Curve + c*df.Long_Shots + b*df.Freekick_Accuracy + d*df.Finishing)/(a + 6*b + 6*c + 2*d)\n",
    "df['att_striker'] = (b*df.Weak_foot + b*df.Ball_Control + a*df.Vision + b*df.Aggression + b*df.Agility + a*df.Curve + a*df.Long_Shots + d*df.Balance + d*df.Finishing + d*df.Heading + c*df.Jumping + c*df.Dribbling)/(3*a + 4*b + 2*c + 3*d)"
   ]
  },
  {
   "cell_type": "code",
   "execution_count": 19,
   "id": "imported-sharing",
   "metadata": {
    "execution": {
     "iopub.execute_input": "2025-01-21T18:23:59.433145Z",
     "iopub.status.busy": "2025-01-21T18:23:59.432173Z",
     "iopub.status.idle": "2025-01-21T18:23:59.609089Z",
     "shell.execute_reply": "2025-01-21T18:23:59.608429Z",
     "shell.execute_reply.started": "2021-05-22T08:43:14.262168Z"
    },
    "id": "iImaGKqDGWK8",
    "outputId": "743a54f5-4ed6-446f-95d6-f8ab34211184",
    "papermill": {
     "duration": 0.235538,
     "end_time": "2025-01-21T18:23:59.609233",
     "exception": false,
     "start_time": "2025-01-21T18:23:59.373695",
     "status": "completed"
    },
    "tags": []
   },
   "outputs": [
    {
     "name": "stderr",
     "output_type": "stream",
     "text": [
      "/opt/conda/lib/python3.7/site-packages/seaborn/_decorators.py:43: FutureWarning: Pass the following variables as keyword args: x, y. From version 0.12, the only valid positional argument will be `data`, and passing other arguments without an explicit keyword will result in an error or misinterpretation.\n",
      "  FutureWarning\n"
     ]
    },
    {
     "data": {
      "text/plain": [
       "Text(0, 0.5, 'Left Wing')"
      ]
     },
     "execution_count": 19,
     "metadata": {},
     "output_type": "execute_result"
    },
    {
     "data": {
      "image/png": "[encoded data removed]",
      "text/plain": [
       "<Figure size 1080x432 with 1 Axes>"
      ]
     },
     "metadata": {
      "needs_background": "light"
     },
     "output_type": "display_data"
    }
   ],
   "source": [
    "plt.figure(figsize=(15,6))\n",
    " \n",
    "ss = df[(df['Club_Position'] == 'LW') | (df['Club_Position'] == 'LM') | (df['Club_Position'] == 'LS')].sort_values('att_left_wing', ascending=False)[:5]\n",
    "x1 = np.array(list(ss['Name']))\n",
    "y1 = np.array(list(ss['att_left_wing']))\n",
    "sns.barplot(x1, y1, palette=sns.diverging_palette(255, 133, l=60, n=5, center=\"dark\"))\n",
    "plt.ylabel(\"Left Wing\")"
   ]
  },
  {
   "cell_type": "code",
   "execution_count": 20,
   "id": "geographic-liechtenstein",
   "metadata": {
    "execution": {
     "iopub.execute_input": "2025-01-21T18:23:59.701636Z",
     "iopub.status.busy": "2025-01-21T18:23:59.700115Z",
     "iopub.status.idle": "2025-01-21T18:23:59.877418Z",
     "shell.execute_reply": "2025-01-21T18:23:59.878346Z",
     "shell.execute_reply.started": "2021-05-22T08:43:15.545366Z"
    },
    "id": "ESjRF5TGGXmm",
    "outputId": "ced327ba-071b-43f7-bc6a-f176ca4ae8ff",
    "papermill": {
     "duration": 0.234895,
     "end_time": "2025-01-21T18:23:59.878608",
     "exception": false,
     "start_time": "2025-01-21T18:23:59.643713",
     "status": "completed"
    },
    "tags": []
   },
   "outputs": [
    {
     "name": "stderr",
     "output_type": "stream",
     "text": [
      "/opt/conda/lib/python3.7/site-packages/seaborn/_decorators.py:43: FutureWarning: Pass the following variables as keyword args: x, y. From version 0.12, the only valid positional argument will be `data`, and passing other arguments without an explicit keyword will result in an error or misinterpretation.\n",
      "  FutureWarning\n"
     ]
    },
    {
     "data": {
      "text/plain": [
       "Text(0, 0.5, 'Right Wing')"
      ]
     },
     "execution_count": 20,
     "metadata": {},
     "output_type": "execute_result"
    },
    {
     "data": {
      "image/png": "[encoded data removed]",
      "text/plain": [
       "<Figure size 1080x432 with 1 Axes>"
      ]
     },
     "metadata": {
      "needs_background": "light"
     },
     "output_type": "display_data"
    }
   ],
   "source": [
    "plt.figure(figsize=(15,6))\n",
    " \n",
    "ss = df[(df['Club_Position'] == 'RW') | (df['Club_Position'] == 'RM') | (df['Club_Position'] == 'RS')].sort_values('att_right_wing', ascending=False)[:5]\n",
    "x2 = np.array(list(ss['Name']))\n",
    "y2 = np.array(list(ss['att_right_wing']))\n",
    "sns.barplot(x2, y2, palette=sns.diverging_palette(255, 133, l=60, n=5, center=\"dark\"))\n",
    "plt.ylabel(\"Right Wing\")"
   ]
  },
  {
   "cell_type": "code",
   "execution_count": 21,
   "id": "virgin-ordinance",
   "metadata": {
    "execution": {
     "iopub.execute_input": "2025-01-21T18:23:59.977895Z",
     "iopub.status.busy": "2025-01-21T18:23:59.976944Z",
     "iopub.status.idle": "2025-01-21T18:24:00.147290Z",
     "shell.execute_reply": "2025-01-21T18:24:00.146520Z",
     "shell.execute_reply.started": "2021-05-22T08:43:16.804466Z"
    },
    "id": "BQa7Rc7yGbCk",
    "outputId": "85f2161a-fb46-4c38-8c39-7d2d016c01f8",
    "papermill": {
     "duration": 0.221423,
     "end_time": "2025-01-21T18:24:00.147480",
     "exception": false,
     "start_time": "2025-01-21T18:23:59.926057",
     "status": "completed"
    },
    "tags": []
   },
   "outputs": [
    {
     "name": "stderr",
     "output_type": "stream",
     "text": [
      "/opt/conda/lib/python3.7/site-packages/seaborn/_decorators.py:43: FutureWarning: Pass the following variables as keyword args: x, y. From version 0.12, the only valid positional argument will be `data`, and passing other arguments without an explicit keyword will result in an error or misinterpretation.\n",
      "  FutureWarning\n"
     ]
    },
    {
     "data": {
      "text/plain": [
       "Text(0, 0.5, 'Striker')"
      ]
     },
     "execution_count": 21,
     "metadata": {},
     "output_type": "execute_result"
    },
    {
     "data": {
      "image/png": "[encoded data removed]",
      "text/plain": [
       "<Figure size 1080x432 with 1 Axes>"
      ]
     },
     "metadata": {
      "needs_background": "light"
     },
     "output_type": "display_data"
    }
   ],
   "source": [
    "plt.figure(figsize=(15,6))\n",
    "ss = df[(df['Club_Position'] == 'ST') | (df['Club_Position'] == 'LS') | (df['Club_Position'] == 'RS') | (df['Club_Position'] == 'CF')].sort_values('att_striker', ascending=False)[:5]\n",
    "x3 = np.array(list(ss['Name']))\n",
    "y3 = np.array(list(ss['att_striker']))\n",
    "sns.barplot(x3, y3, palette=sns.diverging_palette(255, 133, l=60, n=5, center=\"dark\"))\n",
    "plt.ylabel(\"Striker\")\n"
   ]
  },
  {
   "cell_type": "code",
   "execution_count": null,
   "id": "hairy-stake",
   "metadata": {
    "papermill": {
     "duration": 0.038148,
     "end_time": "2025-01-21T18:24:00.233255",
     "exception": false,
     "start_time": "2025-01-21T18:24:00.195107",
     "status": "completed"
    },
    "tags": []
   },
   "outputs": [],
   "source": []
  },
  {
   "cell_type": "code",
   "execution_count": 22,
   "id": "apparent-consciousness",
   "metadata": {
    "execution": {
     "iopub.execute_input": "2025-01-21T18:24:00.333997Z",
     "iopub.status.busy": "2025-01-21T18:24:00.313733Z",
     "iopub.status.idle": "2025-01-21T18:24:00.336425Z",
     "shell.execute_reply": "2025-01-21T18:24:00.337107Z",
     "shell.execute_reply.started": "2021-05-22T08:43:19.297454Z"
    },
    "id": "m66t6yiyGcmk",
    "papermill": {
     "duration": 0.068162,
     "end_time": "2025-01-21T18:24:00.337347",
     "exception": false,
     "start_time": "2025-01-21T18:24:00.269185",
     "status": "completed"
    },
    "tags": []
   },
   "outputs": [],
   "source": [
    "def draw_pitch(pitch, line, orientation,view):\n",
    "    \n",
    "    orientation = orientation\n",
    "    view = view\n",
    "    line = line\n",
    "    pitch = pitch\n",
    "    \n",
    "    if orientation.lower().startswith(\"h\"):\n",
    "        \n",
    "        if view.lower().startswith(\"h\"):\n",
    "            fig,ax = plt.subplots(figsize=(6.8,10.4))\n",
    "            plt.xlim(49,105)\n",
    "            plt.ylim(-1,69)\n",
    "        else:\n",
    "            fig,ax = plt.subplots(figsize=(10.4,6.8))\n",
    "            plt.xlim(-1,105)\n",
    "            plt.ylim(-1,69)\n",
    "        ax.axis('off') \n",
    "    \n",
    "        ly1 = [0,0,68,68,0]\n",
    "        lx1 = [0,104,104,0,0]\n",
    "\n",
    "        plt.plot(lx1,ly1,color=line,zorder=5)\n",
    "\n",
    "\n",
    "        ly2 = [13.84,13.84,54.16,54.16] \n",
    "        lx2 = [104,87.5,87.5,104]\n",
    "        plt.plot(lx2,ly2,color=line,zorder=5)\n",
    "\n",
    "        ly3 = [13.84,13.84,54.16,54.16] \n",
    "        lx3 = [0,16.5,16.5,0]\n",
    "        plt.plot(lx3,ly3,color=line,zorder=5)\n",
    "\n",
    "         \n",
    "        ly4 = [30.34,30.34,37.66,37.66]\n",
    "        lx4 = [104,104.2,104.2,104]\n",
    "        plt.plot(lx4,ly4,color=line,zorder=5)\n",
    "\n",
    "        ly5 = [30.34,30.34,37.66,37.66]\n",
    "        lx5 = [0,-0.2,-0.2,0]\n",
    "        plt.plot(lx5,ly5,color=line,zorder=5)\n",
    "\n",
    "\n",
    "        ly6 = [24.84,24.84,43.16,43.16]\n",
    "        lx6 = [104,99.5,99.5,104]\n",
    "        plt.plot(lx6,ly6,color=line,zorder=5)\n",
    "\n",
    "        ly7 = [24.84,24.84,43.16,43.16]\n",
    "        lx7 = [0,4.5,4.5,0]\n",
    "        plt.plot(lx7,ly7,color=line,zorder=5)\n",
    "\n",
    "        ly8 = [0,68] \n",
    "        lx8 = [52,52]\n",
    "        plt.plot(lx8,ly8,color=line,zorder=5)\n",
    "\n",
    "\n",
    "        plt.scatter(93,34,color=line,zorder=5)\n",
    "        plt.scatter(11,34,color=line,zorder=5)\n",
    "        plt.scatter(52,34,color=line,zorder=5)\n",
    "\n",
    "        circle1 = plt.Circle((93.5,34), 9.15,ls='solid',lw=1.5,color=line, fill=False, zorder=1,alpha=1)\n",
    "        circle2 = plt.Circle((10.5,34), 9.15,ls='solid',lw=1.5,color=line, fill=False, zorder=1,alpha=1)\n",
    "        circle3 = plt.Circle((52, 34), 9.15,ls='solid',lw=1.5,color=line, fill=False, zorder=2,alpha=1)\n",
    "\n",
    "        rec1 = plt.Rectangle((87.5,20), 16,30,ls='-',color=pitch, zorder=1,alpha=1)\n",
    "        rec2 = plt.Rectangle((0, 20), 16.5,30,ls='-',color=pitch, zorder=1,alpha=1)\n",
    "\n",
    "        rec3 = plt.Rectangle((-1, -1), 106,70,ls='-',color=pitch, zorder=1,alpha=1)\n",
    "\n",
    "        ax.add_artist(rec3)\n",
    "        ax.add_artist(circle1)\n",
    "        ax.add_artist(circle2)\n",
    "        ax.add_artist(rec1)\n",
    "        ax.add_artist(rec2)\n",
    "        ax.add_artist(circle3)\n",
    "        \n",
    "    else:\n",
    "        if view.lower().startswith(\"h\"):\n",
    "            fig,ax = plt.subplots(figsize=(10.4,6.8))\n",
    "            plt.ylim(49,105)\n",
    "            plt.xlim(-1,69)\n",
    "        else:\n",
    "            fig,ax = plt.subplots(figsize=(6.8,10.4))\n",
    "            plt.ylim(-1,105)\n",
    "            plt.xlim(-1,69)\n",
    "        ax.axis('off') \n",
    "\n",
    "        lx1 = [0,0,68,68,0]\n",
    "        ly1 = [0,104,104,0,0]\n",
    "\n",
    "        plt.plot(lx1,ly1,color=line,zorder=5)\n",
    "\n",
    "\n",
    "       \n",
    "        lx2 = [13.84,13.84,54.16,54.16] \n",
    "        ly2 = [104,87.5,87.5,104]\n",
    "        plt.plot(lx2,ly2,color=line,zorder=5)\n",
    "\n",
    "        lx3 = [13.84,13.84,54.16,54.16] \n",
    "        ly3 = [0,16.5,16.5,0]\n",
    "        plt.plot(lx3,ly3,color=line,zorder=5)\n",
    "\n",
    "        lx4 = [30.34,30.34,37.66,37.66]\n",
    "        ly4 = [104,104.2,104.2,104]\n",
    "        plt.plot(lx4,ly4,color=line,zorder=5)\n",
    "\n",
    "        lx5 = [30.34,30.34,37.66,37.66]\n",
    "        ly5 = [0,-0.2,-0.2,0]\n",
    "        plt.plot(lx5,ly5,color=line,zorder=5)\n",
    "\n",
    "        lx6 = [24.84,24.84,43.16,43.16]\n",
    "        ly6 = [104,99.5,99.5,104]\n",
    "        plt.plot(lx6,ly6,color=line,zorder=5)\n",
    "\n",
    "        lx7 = [24.84,24.84,43.16,43.16]\n",
    "        ly7 = [0,4.5,4.5,0]\n",
    "        plt.plot(lx7,ly7,color=line,zorder=5)\n",
    "\n",
    "        lx8 = [0,68] \n",
    "        ly8 = [52,52]\n",
    "        plt.plot(lx8,ly8,color=line,zorder=5)\n",
    "\n",
    "\n",
    "        plt.scatter(34,93,color=line,zorder=5)\n",
    "        plt.scatter(34,11,color=line,zorder=5)\n",
    "        plt.scatter(34,52,color=line,zorder=5)\n",
    "\n",
    "        circle1 = plt.Circle((34,93.5), 9.15,ls='solid',lw=1.5,color=line, fill=False, zorder=1,alpha=1)\n",
    "        circle2 = plt.Circle((34,10.5), 9.15,ls='solid',lw=1.5,color=line, fill=False, zorder=1,alpha=1)\n",
    "        circle3 = plt.Circle((34,52), 9.15,ls='solid',lw=1.5,color=line, fill=False, zorder=2,alpha=1)\n",
    "\n",
    "\n",
    "        rec1 = plt.Rectangle((20, 87.5), 30,16.5,ls='-',color=pitch, zorder=1,alpha=1)\n",
    "        rec2 = plt.Rectangle((20, 0), 30,16.5,ls='-',color=pitch, zorder=1,alpha=1)\n",
    "\n",
    "        rec3 = plt.Rectangle((-1, -1), 70,106,ls='-',color=pitch, zorder=1,alpha=1)\n",
    "\n",
    "        ax.add_artist(rec3)\n",
    "        ax.add_artist(circle1)\n",
    "        ax.add_artist(circle2)\n",
    "        ax.add_artist(rec1)\n",
    "        ax.add_artist(rec2)\n",
    "        ax.add_artist(circle3)"
   ]
  },
  {
   "cell_type": "code",
   "execution_count": 23,
   "id": "affected-working",
   "metadata": {
    "execution": {
     "iopub.execute_input": "2025-01-21T18:24:00.461145Z",
     "iopub.status.busy": "2025-01-21T18:24:00.450641Z",
     "iopub.status.idle": "2025-01-21T18:24:00.553919Z",
     "shell.execute_reply": "2025-01-21T18:24:00.553172Z",
     "shell.execute_reply.started": "2021-05-22T08:43:21.805609Z"
    },
    "id": "HLKIoByOGesU",
    "outputId": "98cb1373-fa66-41c5-d0cc-b97376f76518",
    "papermill": {
     "duration": 0.174952,
     "end_time": "2025-01-21T18:24:00.554141",
     "exception": false,
     "start_time": "2025-01-21T18:24:00.379189",
     "status": "completed"
    },
    "tags": []
   },
   "outputs": [
    {
     "data": {
      "image/png": "[encoded data removed]",
      "text/plain": [
       "<Figure size 489.6x748.8 with 1 Axes>"
      ]
     },
     "metadata": {
      "needs_background": "light"
     },
     "output_type": "display_data"
    }
   ],
   "source": [
    "draw_pitch(\"#195905\",\"#faf0e6\",\"v\",\"full\")\n"
   ]
  },
  {
   "cell_type": "code",
   "execution_count": 24,
   "id": "raising-bahrain",
   "metadata": {
    "execution": {
     "iopub.execute_input": "2025-01-21T18:24:00.641452Z",
     "iopub.status.busy": "2025-01-21T18:24:00.640477Z",
     "iopub.status.idle": "2025-01-21T18:24:00.643783Z",
     "shell.execute_reply": "2025-01-21T18:24:00.643056Z",
     "shell.execute_reply.started": "2021-05-22T08:43:23.474637Z"
    },
    "id": "-J4XPtN4GgDz",
    "papermill": {
     "duration": 0.046782,
     "end_time": "2025-01-21T18:24:00.643999",
     "exception": false,
     "start_time": "2025-01-21T18:24:00.597217",
     "status": "completed"
    },
    "tags": []
   },
   "outputs": [],
   "source": [
    "import random\n",
    "\n",
    "sample = 12\n",
    "\n",
    "x = [34,10,25,43,57,10,34,57,10,34,57]\n",
    "y = [8,27,25,25,27,50,53,50,82,82,82]\n",
    "z = [\"Manuel Neuer\",\"David Alaba\",\"Thiago Silva\",\"Azpilicueta\",\"Antonio \\n Valencia\",\"Iniesta\",\"Ivan Rakitić\",\"N'Golo \\n Kanté\",\"Cristiano \\n Ronaldo\",\"Robert \\n Lewandowski\",\"Lionel \\n Messi\"]"
   ]
  },
  {
   "cell_type": "code",
   "execution_count": 25,
   "id": "collectible-guitar",
   "metadata": {
    "execution": {
     "iopub.execute_input": "2025-01-21T18:24:00.758009Z",
     "iopub.status.busy": "2025-01-21T18:24:00.755303Z",
     "iopub.status.idle": "2025-01-21T18:24:00.927022Z",
     "shell.execute_reply": "2025-01-21T18:24:00.927501Z",
     "shell.execute_reply.started": "2021-05-22T08:43:24.776310Z"
    },
    "id": "M2umA-27Gha7",
    "outputId": "9598e452-e3cd-4ab6-f179-0b519fbc0994",
    "papermill": {
     "duration": 0.237024,
     "end_time": "2025-01-21T18:24:00.927667",
     "exception": false,
     "start_time": "2025-01-21T18:24:00.690643",
     "status": "completed"
    },
    "tags": []
   },
   "outputs": [
    {
     "data": {
      "image/png": "[encoded data removed]",
      "text/plain": [
       "<Figure size 489.6x748.8 with 1 Axes>"
      ]
     },
     "metadata": {
      "needs_background": "light"
     },
     "output_type": "display_data"
    }
   ],
   "source": [
    "draw_pitch(\"#195905\",\"#faf0e6\",\"vertical\",\"full\")\n",
    "plt.scatter(x,y,marker='o',color='red',edgecolors=\"black\", zorder=12)\n",
    "for i, txt in enumerate(z):\n",
    "    plt.annotate(txt, (x[i], y[i]),color=\"white\",size=13)"
   ]
  }
 ],
 "metadata": {
  "kaggle": {
   "accelerator": "none",
   "dataSources": [
    {
     "datasetId": 1071,
     "sourceId": 2002,
     "sourceType": "datasetVersion"
    }
   ],
   "dockerImageVersionId": 30096,
   "isGpuEnabled": false,
   "isInternetEnabled": true,
   "language": "python",
   "sourceType": "notebook"
  },
  "kernelspec": {
   "display_name": "Python 3",
   "language": "python",
   "name": "python3"
  },
  "language_info": {
   "codemirror_mode": {
    "name": "ipython",
    "version": 3
   },
   "file_extension": ".py",
   "mimetype": "text/x-python",
   "name": "python",
   "nbconvert_exporter": "python",
   "pygments_lexer": "ipython3",
   "version": "3.7.10"
  },
  "papermill": {
   "default_parameters": {},
   "duration": 14.844716,
   "end_time": "2025-01-21T18:24:02.715862",
   "environment_variables": {},
   "exception": null,
   "input_path": "__notebook__.ipynb",
   "output_path": "__notebook__.ipynb",
   "parameters": {},
   "start_time": "2025-01-21T18:23:47.871146",
   "version": "2.3.3"
  }
 },
 "nbformat": 4,
 "nbformat_minor": 5
}
